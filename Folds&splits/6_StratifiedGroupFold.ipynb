{
 "cells": [
  {
   "cell_type": "markdown",
   "metadata": {},
   "source": [
    "## **StratifiedGroupKFold**\n",
    "\n",
    "**What it is:**  \n",
    "- Combines the concepts of stratification and grouping.\n",
    "- It aims to preserve the class distribution in each fold while ensuring that groups do not leak between the folds.\n",
    "\n",
    "**When to use it:**  \n",
    "- When you have grouped data for classification tasks and you want both stratification and group separation.\n",
    "\n",
    "**Key points:**  \n",
    "- May not be available in older versions of scikit-learn; check your version.\n",
    "- Solves the challenge of preserving group integrity and balanced class distributions.\n",
    "\n"
   ]
  },
  {
   "cell_type": "code",
   "execution_count": 1,
   "metadata": {},
   "outputs": [
    {
     "name": "stdout",
     "output_type": "stream",
     "text": [
      "TRAIN: [2 3 4 5 6 7 8 9] TEST: [0 1]\n",
      "TRAIN: [0 1 4 5 6 7 8 9] TEST: [2 3]\n",
      "TRAIN: [0 1 2 3 4 5 6 7] TEST: [8 9]\n",
      "TRAIN: [0 1 2 3 6 7 8 9] TEST: [4 5]\n",
      "TRAIN: [0 1 2 3 4 5 8 9] TEST: [6 7]\n"
     ]
    }
   ],
   "source": [
    "from sklearn.model_selection import StratifiedGroupKFold\n",
    "import numpy as np\n",
    "\n",
    "X = np.arange(20).reshape(10, 2)\n",
    "y = np.array([0, 0, 1, 1, 0, 0, 1, 1, 0, 1])\n",
    "groups = np.array([1, 1, 2, 2, 3, 3, 4, 4, 5, 5])\n",
    "\n",
    "sgkf = StratifiedGroupKFold(n_splits=5)\n",
    "for train_index, test_index in sgkf.split(X, y, groups):\n",
    "    print(\"TRAIN:\", train_index, \"TEST:\", test_index)\n"
   ]
  }
 ],
 "metadata": {
  "kernelspec": {
   "display_name": "python_ml",
   "language": "python",
   "name": "python3"
  },
  "language_info": {
   "codemirror_mode": {
    "name": "ipython",
    "version": 3
   },
   "file_extension": ".py",
   "mimetype": "text/x-python",
   "name": "python",
   "nbconvert_exporter": "python",
   "pygments_lexer": "ipython3",
   "version": "3.11.11"
  }
 },
 "nbformat": 4,
 "nbformat_minor": 2
}
