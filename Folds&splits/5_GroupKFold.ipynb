{
 "cells": [
  {
   "cell_type": "markdown",
   "metadata": {},
   "source": [
    "## **GroupKFold**\n",
    "\n",
    "**What it is:**  \n",
    "- Splits the dataset into folds such that the same group is not represented in both testing and training sets.\n",
    "- Groups are defined by a separate array that indicates which group each sample belongs to.\n",
    "\n",
    "**When to use it:**  \n",
    "- When your samples are related by groups (e.g., multiple measurements from the same subject) and you want to avoid leakage between train and test.\n",
    "\n",
    "**Key points:**  \n",
    "- Each group appears entirely in either the training or the testing set.\n",
    "- The number of splits is constrained by the number of groups.\n",
    "- When performing cross-validation (for example, using methods like GroupKFold), it's important to ensure that the data points belonging to the same group are not split between the training and test sets. This is particularly useful when the data points within a group are correlated or share some common properties.\n",
    "- By using the groups parameter, you ensure that the splits keep these groups intact. That is, if one sample from a group is in the test set, all samples from that group will be in the test set, avoiding data leakage between training and test sets.\n"
   ]
  },
  {
   "cell_type": "code",
   "execution_count": 23,
   "metadata": {},
   "outputs": [
    {
     "name": "stdout",
     "output_type": "stream",
     "text": [
      "TRAIN: [0 1 2 3 4 5 6 7] TEST: [8 9]\n",
      "TRAIN: [0 1 2 3 4 5 8 9] TEST: [6 7]\n",
      "TRAIN: [0 1 2 3 6 7 8 9] TEST: [4 5]\n",
      "TRAIN: [0 1 4 5 6 7 8 9] TEST: [2 3]\n",
      "TRAIN: [2 3 4 5 6 7 8 9] TEST: [0 1]\n"
     ]
    }
   ],
   "source": [
    "from sklearn.model_selection import GroupKFold\n",
    "import numpy as np\n",
    "\n",
    "X = np.arange(20).reshape(10, 2)\n",
    "y = np.arange(10)\n",
    "groups = np.array([1, 1, 2, 2, 3, 3, 4, 4, 5, 5])\n",
    "\n",
    "gkf = GroupKFold(n_splits=5)\n",
    "for train_index, test_index in gkf.split(X, y, groups):\n",
    "    print(\"TRAIN:\", train_index, \"TEST:\", test_index)\n"
   ]
  }
 ],
 "metadata": {
  "kernelspec": {
   "display_name": "python_ml",
   "language": "python",
   "name": "python3"
  },
  "language_info": {
   "codemirror_mode": {
    "name": "ipython",
    "version": 3
   },
   "file_extension": ".py",
   "mimetype": "text/x-python",
   "name": "python",
   "nbconvert_exporter": "python",
   "pygments_lexer": "ipython3",
   "version": "3.11.11"
  }
 },
 "nbformat": 4,
 "nbformat_minor": 2
}
