{
 "cells": [
  {
   "cell_type": "markdown",
   "metadata": {},
   "source": [
    "\n",
    "## Summary\n",
    "\n",
    "- **Basic CV methods:** `KFold`, `ShuffleSplit`, and `TimeSeriesSplit` are suitable when you have no grouping or stratification constraints.\n",
    "- **Stratified methods:** `StratifiedKFold` and `StratifiedShuffleSplit` ensure class balance in splits for classification tasks.\n",
    "- **Group-aware methods:** `GroupKFold`, `LeaveOneGroupOut`, and `StratifiedGroupKFold` (if available) prevent data leakage when samples belong to groups.\n",
    "- **Exhaustive methods:** `LeaveOneOut` and `LeavePOut` generate many splits and are best used with small datasets.\n",
    "- **Predefined splits:** `PredefinedSplit` is used when you have an external split definition.\n",
    "- **Repeated methods:** `RepeatedKFold` and `RepeatedStratifiedKFold` average performance over multiple random splits.\n",
    "\n",
    "Each of these strategies has its own use case and trade-offs regarding bias, variance, and computational cost. Choosing the right one depends on your dataset’s characteristics and the nature of your task."
   ]
  }
 ],
 "metadata": {
  "language_info": {
   "name": "python"
  }
 },
 "nbformat": 4,
 "nbformat_minor": 2
}
