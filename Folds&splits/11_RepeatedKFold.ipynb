{
 "cells": [
  {
   "cell_type": "markdown",
   "metadata": {},
   "source": [
    "## **RepeatedKFold**\n",
    "\n",
    "**What it is:**  \n",
    "- Repeats KFold cross-validation multiple times with different randomizations.\n",
    "- Combines the benefits of KFold with random shuffling, averaged over several repetitions.\n",
    "\n",
    "**When to use it:**  \n",
    "- When you want a more robust estimate of model performance.\n",
    "- When the dataset is moderately sized, and you wish to reduce the variance associated with a single KFold split.\n",
    "\n",
    "**Key points:**  \n",
    "- Specify both the number of splits (`n_splits`) and the number of repetitions (`n_repeats`).\n",
    "\n",
    "**Example:**\n",
    "```python\n",
    "from sklearn.model_selection import RepeatedKFold\n",
    "import numpy as np\n",
    "\n",
    "X = np.arange(20).reshape(10, 2)\n",
    "rkf = RepeatedKFold(n_splits=5, n_repeats=2, random_state=42)\n",
    "for train_index, test_index in rkf.split(X):\n",
    "    print(\"TRAIN:\", train_index, \"TEST:\", test_index)\n",
    "```"
   ]
  }
 ],
 "metadata": {
  "language_info": {
   "name": "python"
  }
 },
 "nbformat": 4,
 "nbformat_minor": 2
}
