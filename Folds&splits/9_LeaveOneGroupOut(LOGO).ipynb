{
 "cells": [
  {
   "cell_type": "markdown",
   "metadata": {},
   "source": [
    "## **LeaveOneGroupOut (LOGO)**\n",
    "\n",
    "**What it is:**  \n",
    "- In each split, one entire group is left out for testing while all other groups are used for training.\n",
    "\n",
    "**When to use it:**  \n",
    "- When you have grouped data and want to evaluate the model’s ability to generalize to an unseen group.\n",
    "\n",
    "**Key points:**  \n",
    "- Particularly useful when groups represent different subjects, clusters, or sessions.\n",
    "- The number of splits equals the number of unique groups.\n"
   ]
  },
  {
   "cell_type": "code",
   "execution_count": 1,
   "metadata": {},
   "outputs": [
    {
     "name": "stdout",
     "output_type": "stream",
     "text": [
      "TRAIN: [1 2 3 4 5 6 7 8] TEST: [0 9]\n",
      "TRAIN: [0 1 3 4 6 7 8 9] TEST: [2 5]\n",
      "TRAIN: [0 1 2 3 5 7 8 9] TEST: [4 6]\n",
      "TRAIN: [0 2 3 4 5 6 8 9] TEST: [1 7]\n",
      "TRAIN: [0 1 2 4 5 6 7 9] TEST: [3 8]\n"
     ]
    }
   ],
   "source": [
    "from sklearn.model_selection import LeaveOneGroupOut\n",
    "import numpy as np\n",
    "\n",
    "X = np.arange(20).reshape(10, 2)\n",
    "y = np.arange(10)\n",
    "groups = np.array([1, 4, 2, 5, 3, 2, 3, 4, 5, 1])\n",
    "\n",
    "logo = LeaveOneGroupOut()\n",
    "for train_index, test_index in logo.split(X, y, groups):\n",
    "    print(\"TRAIN:\", train_index, \"TEST:\", test_index)\n"
   ]
  }
 ],
 "metadata": {
  "kernelspec": {
   "display_name": "python_ml",
   "language": "python",
   "name": "python3"
  },
  "language_info": {
   "codemirror_mode": {
    "name": "ipython",
    "version": 3
   },
   "file_extension": ".py",
   "mimetype": "text/x-python",
   "name": "python",
   "nbconvert_exporter": "python",
   "pygments_lexer": "ipython3",
   "version": "3.11.11"
  }
 },
 "nbformat": 4,
 "nbformat_minor": 2
}
