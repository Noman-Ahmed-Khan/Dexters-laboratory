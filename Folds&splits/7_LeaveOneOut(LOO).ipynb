{
 "cells": [
  {
   "cell_type": "markdown",
   "metadata": {},
   "source": [
    "## **LeaveOneOut (LOO)**\n",
    "\n",
    "**What it is:**  \n",
    "- Each sample is used once as a test set while the remaining samples form the training set.\n",
    "\n",
    "**When to use it:**  \n",
    "- When you have a very small dataset.\n",
    "- Provides an almost unbiased estimate of the generalization performance.\n",
    "\n",
    "**Key points:**  \n",
    "- Computationally expensive for large datasets.\n",
    "- High variance because training sets overlap heavily.\n"
   ]
  },
  {
   "cell_type": "code",
   "execution_count": 1,
   "metadata": {},
   "outputs": [
    {
     "name": "stdout",
     "output_type": "stream",
     "text": [
      "TRAIN: [1 2 3 4] TEST: [0]\n",
      "TRAIN: [0 2 3 4] TEST: [1]\n",
      "TRAIN: [0 1 3 4] TEST: [2]\n",
      "TRAIN: [0 1 2 4] TEST: [3]\n",
      "TRAIN: [0 1 2 3] TEST: [4]\n"
     ]
    }
   ],
   "source": [
    "from sklearn.model_selection import LeaveOneOut\n",
    "import numpy as np\n",
    "\n",
    "X = np.arange(10).reshape(5, 2)\n",
    "loo = LeaveOneOut()\n",
    "for train_index, test_index in loo.split(X):\n",
    "    print(\"TRAIN:\", train_index, \"TEST:\", test_index)\n"
   ]
  }
 ],
 "metadata": {
  "kernelspec": {
   "display_name": "python_ml",
   "language": "python",
   "name": "python3"
  },
  "language_info": {
   "codemirror_mode": {
    "name": "ipython",
    "version": 3
   },
   "file_extension": ".py",
   "mimetype": "text/x-python",
   "name": "python",
   "nbconvert_exporter": "python",
   "pygments_lexer": "ipython3",
   "version": "3.11.11"
  }
 },
 "nbformat": 4,
 "nbformat_minor": 2
}
