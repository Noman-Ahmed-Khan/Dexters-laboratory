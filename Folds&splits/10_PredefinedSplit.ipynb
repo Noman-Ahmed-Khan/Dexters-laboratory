{
 "cells": [
  {
   "cell_type": "markdown",
   "metadata": {},
   "source": [
    "## **PredefinedSplit**\n",
    "\n",
    "**What it is:**  \n",
    "- Allows you to define a cross-validation scheme using a pre-specified array that indicates which fold each sample belongs to.\n",
    "\n",
    "**When to use it:**  \n",
    "- When your train/test split is predetermined.\n",
    "- When you need to use an external split definition (for example, when using a fixed holdout set).\n",
    "\n",
    "**Key points:**  \n",
    "- You provide a `test_fold` array where each element is the index of the test fold for that sample, with `-1` typically indicating that the sample is always in the training set.\n",
    "\n",
    "**Example:**\n",
    "```python\n",
    "from sklearn.model_selection import PredefinedSplit\n",
    "import numpy as np\n",
    "\n",
    "# Suppose we have 10 samples; indices 0-4 for training and 5-9 for testing.\n",
    "test_fold = [-1, -1, -1, -1, -1, 0, 0, 0, 0, 0]\n",
    "ps = PredefinedSplit(test_fold)\n",
    "for train_index, test_index in ps.split():\n",
    "    print(\"TRAIN:\", train_index, \"TEST:\", test_index)\n",
    "```\n"
   ]
  }
 ],
 "metadata": {
  "language_info": {
   "name": "python"
  }
 },
 "nbformat": 4,
 "nbformat_minor": 2
}
