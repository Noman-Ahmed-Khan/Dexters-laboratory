{
 "cells": [
  {
   "cell_type": "markdown",
   "metadata": {},
   "source": [
    "\n",
    "\n",
    "## **StratifiedShuffleSplit**\n",
    "\n",
    "**What it is:**  \n",
    "- A combination of stratification and shuffling.\n",
    "- It ensures that each random split maintains the same class distribution as the full dataset.\n",
    "\n",
    "**When to use it:**  \n",
    "- When you need random splits for classification tasks while preserving class balance in each split.\n",
    "\n",
    "**Key points:**  \n",
    "- Provides multiple randomized train/test splits with stratification.\n"
   ]
  },
  {
   "cell_type": "code",
   "execution_count": 8,
   "metadata": {},
   "outputs": [
    {
     "name": "stdout",
     "output_type": "stream",
     "text": [
      "TRAIN: [4 7 1 8 5 3 2] TEST: [0 6 9]\n",
      "TRAIN: [3 7 0 8 5 2 9] TEST: [1 6 4]\n",
      "TRAIN: [7 8 3 9 4 2 0] TEST: [1 5 6]\n",
      "TRAIN: [7 9 5 1 8 0 2] TEST: [4 3 6]\n",
      "TRAIN: [0 7 5 3 6 8 9] TEST: [1 2 4]\n"
     ]
    }
   ],
   "source": [
    "from sklearn.model_selection import StratifiedShuffleSplit\n",
    "import numpy as np\n",
    "\n",
    "X = np.arange(20).reshape(10, 2)\n",
    "y = np.array([0, 0, 0, 1, 1, 1, 0, 0, 1, 1])\n",
    "\n",
    "sss = StratifiedShuffleSplit(n_splits=5, test_size=0.3, random_state=42)\n",
    "for train_index, test_index in sss.split(X, y):\n",
    "    print(\"TRAIN:\", train_index, \"TEST:\", test_index)\n"
   ]
  },
  {
   "cell_type": "code",
   "execution_count": 9,
   "metadata": {},
   "outputs": [
    {
     "data": {
      "text/plain": [
       "tip-range\n",
       "2    0.303279\n",
       "3    0.278689\n",
       "4    0.233607\n",
       "5    0.094262\n",
       "6    0.073770\n",
       "1    0.016393\n",
       "Name: count, dtype: float64"
      ]
     },
     "execution_count": 9,
     "metadata": {},
     "output_type": "execute_result"
    }
   ],
   "source": [
    "import seaborn as sns \n",
    "import pandas as pd\n",
    "# from sklearn.model_selection import StratifiedShuffleSplit\n",
    "\n",
    "df=sns.load_dataset('tips')\n",
    "df[\"tip-range\"] = pd.cut(\n",
    "    df['tip'],\n",
    "    bins=[0., 1, 2., 3, 4., 5., np.inf],\n",
    "    labels=[1, 2, 3, 4, 5, 6]\n",
    ")\n",
    "df['tip-range'].value_counts()/len(df)\n"
   ]
  },
  {
   "cell_type": "code",
   "execution_count": 10,
   "metadata": {},
   "outputs": [
    {
     "name": "stdout",
     "output_type": "stream",
     "text": [
      "################### Fold 1 ###################\n",
      "Train Distribution:\n",
      " tip-range\n",
      "2    0.305882\n",
      "3    0.276471\n",
      "4    0.235294\n",
      "5    0.094118\n",
      "6    0.070588\n",
      "1    0.017647\n",
      "Name: proportion, dtype: float64\n",
      "Test Distribution:\n",
      " tip-range\n",
      "2    0.297297\n",
      "3    0.283784\n",
      "4    0.229730\n",
      "5    0.094595\n",
      "6    0.081081\n",
      "1    0.013514\n",
      "Name: proportion, dtype: float64\n",
      "############################################################\n",
      "\n",
      "################### Fold 2 ###################\n",
      "Train Distribution:\n",
      " tip-range\n",
      "2    0.305882\n",
      "3    0.276471\n",
      "4    0.235294\n",
      "5    0.094118\n",
      "6    0.070588\n",
      "1    0.017647\n",
      "Name: proportion, dtype: float64\n",
      "Test Distribution:\n",
      " tip-range\n",
      "2    0.297297\n",
      "3    0.283784\n",
      "4    0.229730\n",
      "5    0.094595\n",
      "6    0.081081\n",
      "1    0.013514\n",
      "Name: proportion, dtype: float64\n",
      "############################################################\n",
      "\n",
      "################### Fold 3 ###################\n",
      "Train Distribution:\n",
      " tip-range\n",
      "2    0.305882\n",
      "3    0.276471\n",
      "4    0.235294\n",
      "5    0.094118\n",
      "6    0.070588\n",
      "1    0.017647\n",
      "Name: proportion, dtype: float64\n",
      "Test Distribution:\n",
      " tip-range\n",
      "2    0.297297\n",
      "3    0.283784\n",
      "4    0.229730\n",
      "5    0.094595\n",
      "6    0.081081\n",
      "1    0.013514\n",
      "Name: proportion, dtype: float64\n",
      "############################################################\n",
      "\n",
      "################### Fold 4 ###################\n",
      "Train Distribution:\n",
      " tip-range\n",
      "2    0.305882\n",
      "3    0.276471\n",
      "4    0.235294\n",
      "5    0.094118\n",
      "6    0.070588\n",
      "1    0.017647\n",
      "Name: proportion, dtype: float64\n",
      "Test Distribution:\n",
      " tip-range\n",
      "2    0.297297\n",
      "3    0.283784\n",
      "4    0.229730\n",
      "5    0.094595\n",
      "6    0.081081\n",
      "1    0.013514\n",
      "Name: proportion, dtype: float64\n",
      "############################################################\n",
      "\n",
      "################### Fold 5 ###################\n",
      "Train Distribution:\n",
      " tip-range\n",
      "2    0.305882\n",
      "3    0.276471\n",
      "4    0.235294\n",
      "5    0.094118\n",
      "6    0.070588\n",
      "1    0.017647\n",
      "Name: proportion, dtype: float64\n",
      "Test Distribution:\n",
      " tip-range\n",
      "2    0.297297\n",
      "3    0.283784\n",
      "4    0.229730\n",
      "5    0.094595\n",
      "6    0.081081\n",
      "1    0.013514\n",
      "Name: proportion, dtype: float64\n",
      "############################################################\n",
      "\n"
     ]
    }
   ],
   "source": [
    "sss=StratifiedShuffleSplit(n_splits=5,test_size=0.3,random_state=42)\n",
    "for fold,(train_ids, test_ids) in enumerate(sss.split(df.drop(columns=['tip','tip-range']),df['tip-range'])):\n",
    "    print(f\"################### Fold {fold + 1} ###################\")\n",
    "\n",
    "    train_distribution = df.loc[train_ids, 'tip-range'].value_counts(normalize=True)\n",
    "    test_distribution = df.loc[test_ids, 'tip-range'].value_counts(normalize=True)\n",
    "\n",
    "    print(\"Train Distribution:\\n\", train_distribution)\n",
    "    print(\"Test Distribution:\\n\", test_distribution)\n",
    "    \n",
    "    print(\"############################################################\\n\")\n"
   ]
  }
 ],
 "metadata": {
  "kernelspec": {
   "display_name": "python_ml",
   "language": "python",
   "name": "python3"
  },
  "language_info": {
   "codemirror_mode": {
    "name": "ipython",
    "version": 3
   },
   "file_extension": ".py",
   "mimetype": "text/x-python",
   "name": "python",
   "nbconvert_exporter": "python",
   "pygments_lexer": "ipython3",
   "version": "3.11.11"
  }
 },
 "nbformat": 4,
 "nbformat_minor": 2
}
