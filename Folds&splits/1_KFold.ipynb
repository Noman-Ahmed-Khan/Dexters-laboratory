{
 "cells": [
  {
   "cell_type": "markdown",
   "metadata": {},
   "source": [
    "\n",
    "## **KFold**\n",
    "\n",
    "**What it is:**  \n",
    "- Splits the dataset into *k* consecutive folds (without shuffling by default).  \n",
    "- Each fold is used once as a validation while the *k–1* remaining folds form the training set.\n",
    "\n",
    "**When to use it:**  \n",
    "- For general cross-validation when no special grouping or stratification is needed.\n",
    "\n",
    "**Key points:**  \n",
    "- The splits are deterministic unless you set `shuffle=True` with a `random_state`.\n",
    "- Does not preserve the distribution of labels (i.e., not stratified).\n"
   ]
  },
  {
   "cell_type": "code",
   "execution_count": 3,
   "metadata": {},
   "outputs": [
    {
     "name": "stdout",
     "output_type": "stream",
     "text": [
      "[[ 0  1  2  3  4]\n",
      " [ 5  6  7  8  9]\n",
      " [10 11 12 13 14]\n",
      " [15 16 17 18 19]\n",
      " [20 21 22 23 24]\n",
      " [25 26 27 28 29]\n",
      " [30 31 32 33 34]]\n",
      "[0 1 2 3 4 5 6]\n",
      "TRAIN: [2 3 4 5 6] TEST: [0 1]\n",
      "TRAIN: [0 1 3 4 6] TEST: [2 5]\n",
      "TRAIN: [0 1 2 3 5 6] TEST: [4]\n",
      "TRAIN: [0 1 2 4 5 6] TEST: [3]\n",
      "TRAIN: [0 1 2 3 4 5] TEST: [6]\n"
     ]
    }
   ],
   "source": [
    "from sklearn.model_selection import KFold\n",
    "import numpy as np\n",
    "\n",
    "X = np.arange(35).reshape(7, 5)\n",
    "y = np.arange(7)\n",
    "\n",
    "\n",
    "print(X)\n",
    "print(y)\n",
    "kf = KFold(n_splits=5, shuffle=True, random_state=42)\n",
    "for train_index, test_index in kf.split(X):\n",
    "    print(\"TRAIN:\", train_index, \"TEST:\", test_index)\n"
   ]
  },
  {
   "cell_type": "code",
   "execution_count": 4,
   "metadata": {},
   "outputs": [
    {
     "data": {
      "text/plain": [
       "tip-range\n",
       "2    0.303279\n",
       "3    0.278689\n",
       "4    0.233607\n",
       "5    0.094262\n",
       "6    0.073770\n",
       "1    0.016393\n",
       "Name: count, dtype: float64"
      ]
     },
     "execution_count": 4,
     "metadata": {},
     "output_type": "execute_result"
    }
   ],
   "source": [
    "import seaborn as sns \n",
    "import pandas as pd\n",
    "# from sklearn.model_selection import KFold\n",
    "\n",
    "df=sns.load_dataset('tips')\n",
    "df[\"tip-range\"] = pd.cut(\n",
    "    df['tip'],\n",
    "    bins=[0., 1, 2., 3, 4., 5., np.inf],\n",
    "    labels=[1, 2, 3, 4, 5, 6]\n",
    ")\n",
    "df['tip-range'].value_counts()/len(df)\n"
   ]
  },
  {
   "cell_type": "code",
   "execution_count": 5,
   "metadata": {},
   "outputs": [
    {
     "name": "stdout",
     "output_type": "stream",
     "text": [
      "################### Fold 1 ###################\n",
      "Train Distribution:\n",
      " tip-range\n",
      "2    0.302469\n",
      "3    0.259259\n",
      "4    0.246914\n",
      "5    0.092593\n",
      "6    0.086420\n",
      "1    0.012346\n",
      "Name: proportion, dtype: float64\n",
      "Test Distribution:\n",
      " tip-range\n",
      "3    0.317073\n",
      "2    0.304878\n",
      "4    0.207317\n",
      "5    0.097561\n",
      "6    0.048780\n",
      "1    0.024390\n",
      "Name: proportion, dtype: float64\n",
      "############################################################\n",
      "\n",
      "################### Fold 2 ###################\n",
      "Train Distribution:\n",
      " tip-range\n",
      "2    0.319018\n",
      "3    0.276074\n",
      "4    0.233129\n",
      "5    0.085890\n",
      "6    0.061350\n",
      "1    0.024540\n",
      "Name: proportion, dtype: float64\n",
      "Test Distribution:\n",
      " tip-range\n",
      "3    0.283951\n",
      "2    0.271605\n",
      "4    0.234568\n",
      "5    0.111111\n",
      "6    0.098765\n",
      "1    0.000000\n",
      "Name: proportion, dtype: float64\n",
      "############################################################\n",
      "\n",
      "################### Fold 3 ###################\n",
      "Train Distribution:\n",
      " tip-range\n",
      "3    0.300613\n",
      "2    0.288344\n",
      "4    0.220859\n",
      "5    0.104294\n",
      "6    0.073620\n",
      "1    0.012270\n",
      "Name: proportion, dtype: float64\n",
      "Test Distribution:\n",
      " tip-range\n",
      "2    0.333333\n",
      "4    0.259259\n",
      "3    0.234568\n",
      "5    0.074074\n",
      "6    0.074074\n",
      "1    0.024691\n",
      "Name: proportion, dtype: float64\n",
      "############################################################\n",
      "\n"
     ]
    }
   ],
   "source": [
    "\n",
    "kf=KFold(n_splits=3,shuffle=True,random_state=42)\n",
    "for fold, (train_ids, test_ids) in enumerate(kf.split(df)):\n",
    "    print(f\"################### Fold {fold + 1} ###################\")\n",
    "\n",
    "    train_distribution = df.loc[train_ids, 'tip-range'].value_counts(normalize=True)\n",
    "    test_distribution = df.loc[test_ids, 'tip-range'].value_counts(normalize=True)\n",
    "\n",
    "    print(\"Train Distribution:\\n\", train_distribution)\n",
    "    print(\"Test Distribution:\\n\", test_distribution)\n",
    "    \n",
    "    print(\"############################################################\\n\")\n"
   ]
  }
 ],
 "metadata": {
  "kernelspec": {
   "display_name": "python_ml",
   "language": "python",
   "name": "python3"
  },
  "language_info": {
   "codemirror_mode": {
    "name": "ipython",
    "version": 3
   },
   "file_extension": ".py",
   "mimetype": "text/x-python",
   "name": "python",
   "nbconvert_exporter": "python",
   "pygments_lexer": "ipython3",
   "version": "3.11.11"
  }
 },
 "nbformat": 4,
 "nbformat_minor": 2
}
