{
 "cells": [
  {
   "cell_type": "markdown",
   "metadata": {},
   "source": [
    "## **TimeSeriesSplit**\n",
    "\n",
    "**What it is:**  \n",
    "- Designed specifically for time series data.\n",
    "- Splits data such that the training set is always before the test set, preserving the temporal order.\n",
    "\n",
    "**When to use it:**  \n",
    "- When dealing with time series or sequential data where future information should not be used to predict the past.\n",
    "- Avoids data leakage by ensuring that training always happens on past data.\n",
    "\n",
    "**Key points:**  \n",
    "- The splits are “expanding windows” by default (i.e., the training set increases with each split).\n",
    "- Does not shuffle the data.\n",
    "\n",
    "**Example:**\n",
    "```python\n",
    "from sklearn.model_selection import TimeSeriesSplit\n",
    "import numpy as np\n",
    "\n",
    "X = np.arange(20).reshape(10, 2)\n",
    "tscv = TimeSeriesSplit(n_splits=3)\n",
    "for train_index, test_index in tscv.split(X):\n",
    "    print(\"TRAIN:\", train_index, \"TEST:\", test_index)\n",
    "```\n"
   ]
  }
 ],
 "metadata": {
  "language_info": {
   "name": "python"
  }
 },
 "nbformat": 4,
 "nbformat_minor": 2
}
