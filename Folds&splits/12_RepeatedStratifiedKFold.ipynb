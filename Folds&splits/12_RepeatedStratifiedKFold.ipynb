{
 "cells": [
  {
   "cell_type": "markdown",
   "metadata": {},
   "source": [
    "## **RepeatedStratifiedKFold**\n",
    "\n",
    "**What it is:**  \n",
    "- The stratified version of RepeatedKFold.\n",
    "- Ensures that each fold of every repetition has approximately the same class proportions as the full dataset.\n",
    "\n",
    "**When to use it:**  \n",
    "- For classification tasks where you want multiple stratified splits to get a robust performance estimate.\n",
    "\n",
    "**Key points:**  \n",
    "- Only applicable for classification problems.\n",
    "- Specify `n_splits` and `n_repeats`.\n",
    "\n",
    "**Example:**\n",
    "```python\n",
    "from sklearn.model_selection import RepeatedStratifiedKFold\n",
    "import numpy as np\n",
    "\n",
    "X = np.arange(20).reshape(10, 2)\n",
    "y = np.array([0, 0, 0, 1, 1, 1, 0, 0, 1, 1])\n",
    "rskf = RepeatedStratifiedKFold(n_splits=5, n_repeats=2, random_state=42)\n",
    "for train_index, test_index in rskf.split(X, y):\n",
    "    print(\"TRAIN:\", train_index, \"TEST:\", test_index)\n",
    "```"
   ]
  }
 ],
 "metadata": {
  "language_info": {
   "name": "python"
  }
 },
 "nbformat": 4,
 "nbformat_minor": 2
}
