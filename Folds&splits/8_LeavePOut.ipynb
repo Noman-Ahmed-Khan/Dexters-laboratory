{
 "cells": [
  {
   "cell_type": "markdown",
   "metadata": {},
   "source": [
    "## **LeavePOut**\n",
    "\n",
    "**What it is:**  \n",
    "- Similar to LeaveOneOut, but leaves *p* samples out for testing in each split.\n",
    "\n",
    "**When to use it:**  \n",
    "- When you want to test on more than one sample at a time.\n",
    "- Best for small datasets due to the combinatorial explosion in the number of splits.\n",
    "\n",
    "**Key points:**  \n",
    "- The number of splits grows combinatorially with the number of samples.\n",
    "- Typically used for exploratory purposes on small datasets.\n"
   ]
  },
  {
   "cell_type": "code",
   "execution_count": 1,
   "metadata": {},
   "outputs": [
    {
     "name": "stdout",
     "output_type": "stream",
     "text": [
      "TRAIN: [2 3 4] TEST: [0 1]\n",
      "TRAIN: [1 3 4] TEST: [0 2]\n",
      "TRAIN: [1 2 4] TEST: [0 3]\n",
      "TRAIN: [1 2 3] TEST: [0 4]\n",
      "TRAIN: [0 3 4] TEST: [1 2]\n",
      "TRAIN: [0 2 4] TEST: [1 3]\n",
      "TRAIN: [0 2 3] TEST: [1 4]\n",
      "TRAIN: [0 1 4] TEST: [2 3]\n",
      "TRAIN: [0 1 3] TEST: [2 4]\n",
      "TRAIN: [0 1 2] TEST: [3 4]\n"
     ]
    }
   ],
   "source": [
    "from sklearn.model_selection import LeavePOut\n",
    "import numpy as np\n",
    "\n",
    "X = np.arange(10).reshape(5, 2)\n",
    "lpo = LeavePOut(p=2)\n",
    "# Warning: This will generate many splits for larger datasets!\n",
    "for train_index, test_index in lpo.split(X):\n",
    "    print(\"TRAIN:\", train_index, \"TEST:\", test_index)\n"
   ]
  }
 ],
 "metadata": {
  "kernelspec": {
   "display_name": "python_ml",
   "language": "python",
   "name": "python3"
  },
  "language_info": {
   "codemirror_mode": {
    "name": "ipython",
    "version": 3
   },
   "file_extension": ".py",
   "mimetype": "text/x-python",
   "name": "python",
   "nbconvert_exporter": "python",
   "pygments_lexer": "ipython3",
   "version": "3.11.11"
  }
 },
 "nbformat": 4,
 "nbformat_minor": 2
}
