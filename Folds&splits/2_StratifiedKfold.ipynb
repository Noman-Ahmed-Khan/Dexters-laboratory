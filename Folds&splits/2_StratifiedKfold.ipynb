{
 "cells": [
  {
   "cell_type": "markdown",
   "metadata": {},
   "source": [
    "\n",
    "## **StratifiedKFold**\n",
    "\n",
    "**What it is:**  \n",
    "- Similar to KFold but ensures that each fold maintains roughly the same percentage of samples for each target class (i.e., preserves class distribution).\n",
    "\n",
    "**When to use it:**  \n",
    "- When dealing with classification problems, especially if classes are imbalanced.\n",
    "\n",
    "**Key points:**  \n",
    "- Only applicable for classification tasks where `y` is categorical.\n"
   ]
  },
  {
   "cell_type": "code",
   "execution_count": 13,
   "metadata": {},
   "outputs": [
    {
     "name": "stdout",
     "output_type": "stream",
     "text": [
      "[[ 0  1  2  3  4]\n",
      " [ 5  6  7  8  9]\n",
      " [10 11 12 13 14]\n",
      " [15 16 17 18 19]\n",
      " [20 21 22 23 24]\n",
      " [25 26 27 28 29]\n",
      " [30 31 32 33 34]]\n",
      "[0 1 0 0 0 1 1]\n",
      "TRAIN: [2 4 5 6] TEST: [0 1 3]\n",
      "TRAIN: [0 1 2 3 6] TEST: [4 5]\n",
      "TRAIN: [0 1 3 4 5] TEST: [2 6]\n"
     ]
    }
   ],
   "source": [
    "from sklearn.model_selection import StratifiedKFold\n",
    "import numpy as np\n",
    "\n",
    "# Suppose we have a binary classification problem\n",
    "X = np.arange(35).reshape(7, 5)\n",
    "y = np.array([0, 1, 0, 0, 0, 1, 1])\n",
    "\n",
    "print(X)\n",
    "print(y)\n",
    "skf = StratifiedKFold(n_splits=3, shuffle=True, random_state=42)\n",
    "for train_index, test_index in skf.split(X, y):\n",
    "    print(\"TRAIN:\", train_index, \"TEST:\", test_index)\n"
   ]
  },
  {
   "cell_type": "code",
   "execution_count": 14,
   "metadata": {},
   "outputs": [
    {
     "data": {
      "text/plain": [
       "tip-range\n",
       "2    0.303279\n",
       "3    0.278689\n",
       "4    0.233607\n",
       "5    0.094262\n",
       "6    0.073770\n",
       "1    0.016393\n",
       "Name: count, dtype: float64"
      ]
     },
     "execution_count": 14,
     "metadata": {},
     "output_type": "execute_result"
    }
   ],
   "source": [
    "import seaborn as sns\n",
    "import pandas as pd\n",
    "# from sklearn.model_selection import StratifiedKFold\n",
    "\n",
    "df=sns.load_dataset('tips')\n",
    "df[\"tip-range\"] = pd.cut(\n",
    "    df['tip'],\n",
    "    bins=[0., 1, 2., 3, 4., 5., np.inf],\n",
    "    labels=[1, 2, 3, 4, 5, 6]\n",
    ")\n",
    "df['tip-range'].value_counts()/len(df)"
   ]
  },
  {
   "cell_type": "code",
   "execution_count": 18,
   "metadata": {},
   "outputs": [
    {
     "name": "stdout",
     "output_type": "stream",
     "text": [
      "################### Fold 1 ###################\n",
      "Train Distribution:\n",
      " tip-range\n",
      "2    0.302469\n",
      "3    0.283951\n",
      "4    0.234568\n",
      "5    0.092593\n",
      "6    0.074074\n",
      "1    0.012346\n",
      "Name: proportion, dtype: float64\n",
      "Test Distribution:\n",
      " tip-range\n",
      "2    0.304878\n",
      "3    0.268293\n",
      "4    0.231707\n",
      "5    0.097561\n",
      "6    0.073171\n",
      "1    0.024390\n",
      "Name: proportion, dtype: float64\n",
      "############################################################\n",
      "\n",
      "################### Fold 2 ###################\n",
      "Train Distribution:\n",
      " tip-range\n",
      "2    0.300613\n",
      "3    0.276074\n",
      "4    0.233129\n",
      "5    0.098160\n",
      "6    0.073620\n",
      "1    0.018405\n",
      "Name: proportion, dtype: float64\n",
      "Test Distribution:\n",
      " tip-range\n",
      "2    0.308642\n",
      "3    0.283951\n",
      "4    0.234568\n",
      "5    0.086420\n",
      "6    0.074074\n",
      "1    0.012346\n",
      "Name: proportion, dtype: float64\n",
      "############################################################\n",
      "\n",
      "################### Fold 3 ###################\n",
      "Train Distribution:\n",
      " tip-range\n",
      "2    0.306748\n",
      "3    0.276074\n",
      "4    0.233129\n",
      "5    0.092025\n",
      "6    0.073620\n",
      "1    0.018405\n",
      "Name: proportion, dtype: float64\n",
      "Test Distribution:\n",
      " tip-range\n",
      "2    0.296296\n",
      "3    0.283951\n",
      "4    0.234568\n",
      "5    0.098765\n",
      "6    0.074074\n",
      "1    0.012346\n",
      "Name: proportion, dtype: float64\n",
      "############################################################\n",
      "\n"
     ]
    }
   ],
   "source": [
    "skf=StratifiedKFold(n_splits=3,shuffle=True,random_state=42)\n",
    "for fold,(train_ids, test_ids) in enumerate(skf.split(df.drop(columns=['tip','tip-range']),df['tip-range'])):\n",
    "    print(f\"################### Fold {fold + 1} ###################\")\n",
    "\n",
    "    train_distribution = df.loc[train_ids, 'tip-range'].value_counts(normalize=True)\n",
    "    test_distribution = df.loc[test_ids, 'tip-range'].value_counts(normalize=True)\n",
    "\n",
    "    print(\"Train Distribution:\\n\", train_distribution)\n",
    "    print(\"Test Distribution:\\n\", test_distribution)\n",
    "    \n",
    "    print(\"############################################################\\n\")\n"
   ]
  }
 ],
 "metadata": {
  "kernelspec": {
   "display_name": "python_ml",
   "language": "python",
   "name": "python3"
  },
  "language_info": {
   "codemirror_mode": {
    "name": "ipython",
    "version": 3
   },
   "file_extension": ".py",
   "mimetype": "text/x-python",
   "name": "python",
   "nbconvert_exporter": "python",
   "pygments_lexer": "ipython3",
   "version": "3.11.11"
  }
 },
 "nbformat": 4,
 "nbformat_minor": 2
}
