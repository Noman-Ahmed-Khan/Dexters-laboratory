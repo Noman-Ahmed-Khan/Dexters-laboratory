{
 "cells": [
  {
   "cell_type": "markdown",
   "id": "3af26a95",
   "metadata": {},
   "source": [
    "K-Nearest Neighbors (KNN) is a **supervised machine learning algorithm** used for both **classification and regression** problems, but it's mostly used for classification.\n",
    "\n",
    "---\n",
    "\n",
    "### 🧠 **When to Use KNN**\n",
    "\n",
    "You can use KNN when:\n",
    "\n",
    "1. **Your dataset is small to medium-sized** (KNN is computationally expensive as it searches the entire dataset at prediction time).\n",
    "2. **The data is not high-dimensional** (KNN struggles with the \"curse of dimensionality\").\n",
    "3. **You want a simple, easy-to-implement model** with no assumptions about the data distribution.\n",
    "4. **The decision boundary is nonlinear or complex** — KNN is flexible and can adapt to complex boundaries.\n",
    "5. **Your features are on a similar scale** (scaling like normalization or standardization is important for KNN).\n",
    "\n",
    "---\n",
    "\n",
    "### 🔢 **How to Choose the Best Value of K**\n",
    "\n",
    "There’s no fixed rule, but here's how you can find a good value:\n",
    "\n",
    "#### 1. **Try several values of K and use cross-validation**\n",
    "- Use a range like `k = 1 to 30` and test performance using **cross-validation**.\n",
    "- Plot **accuracy vs. k** and pick the value with the **highest accuracy** (or lowest error).\n",
    "\n",
    "#### 2. **Odd number for K (in binary classification)**\n",
    "- Use an odd value to avoid ties in voting.\n",
    "\n",
    "#### 3. **Rule of thumb** (just a starting point):\n",
    "```python\n",
    "k = sqrt(n)\n",
    "```\n",
    "Where `n` is the number of training samples. But always validate with actual performance testing.\n",
    "\n",
    "#### 4. **Avoid overfitting and underfitting**\n",
    "- Small K (like 1 or 3): **High variance**, may overfit.\n",
    "- Large K: **High bias**, may underfit.\n",
    "- So it’s a **bias-variance tradeoff**.\n",
    "\n",
    "---\n"
   ]
  },
  {
   "cell_type": "code",
   "execution_count": 15,
   "id": "e6b6cbf2",
   "metadata": {},
   "outputs": [],
   "source": [
    "import numpy as np\n",
    "from collections import Counter\n",
    "\n",
    "def elucidean_distance(x1,x2):\n",
    "    distance=np.sqrt(np.sum((x1-x2)**2))\n",
    "    return distance\n",
    "\n",
    "class KNN:\n",
    "    def __init__(self, k=10):\n",
    "        self.k=k\n",
    "    \n",
    "    def fit(self, X, y):\n",
    "        self.X_train=X\n",
    "        self.y_train=y\n",
    "\n",
    "    def predict(self, X):\n",
    "        predictions=[self._predict(x) for x in X]\n",
    "        return predictions\n",
    "    \n",
    "    def _predict(self, x):\n",
    "        dist=[elucidean_distance(x,x_train) for x_train in X_train]\n",
    "        k_indices=np.argsort(dist)[:self.k]\n",
    "        k_nearest_labels=[self.y_train[i] for i in k_indices]\n",
    "        most_common=Counter(k_nearest_labels).most_common()\n",
    "        # print(most_common)\n",
    "        return most_common[0][0]\n"
   ]
  },
  {
   "cell_type": "code",
   "execution_count": 14,
   "id": "e16a3d5d",
   "metadata": {},
   "outputs": [
    {
     "name": "stdout",
     "output_type": "stream",
     "text": [
      "1.0\n"
     ]
    }
   ],
   "source": [
    "from sklearn import datasets\n",
    "from sklearn.model_selection import train_test_split\n",
    "data=datasets.load_iris()\n",
    "X,y=data.data, data.target\n",
    "\n",
    "\n",
    "X_train,X_test,y_train,y_test=train_test_split(X,y,test_size=0.3,random_state=42)\n",
    "\n",
    "clf=KNN(k=10)\n",
    "clf.fit(X_train,y_train)\n",
    "predictions=clf.predict(X_test)\n",
    "\n",
    "print(np.sum(predictions==y_test)/len(y_test))"
   ]
  },
  {
   "cell_type": "code",
   "execution_count": null,
   "id": "9a8539da",
   "metadata": {},
   "outputs": [],
   "source": []
  }
 ],
 "metadata": {
  "kernelspec": {
   "display_name": "python_ml",
   "language": "python",
   "name": "python3"
  },
  "language_info": {
   "codemirror_mode": {
    "name": "ipython",
    "version": 3
   },
   "file_extension": ".py",
   "mimetype": "text/x-python",
   "name": "python",
   "nbconvert_exporter": "python",
   "pygments_lexer": "ipython3",
   "version": "3.11.11"
  }
 },
 "nbformat": 4,
 "nbformat_minor": 5
}
